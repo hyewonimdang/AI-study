{
 "cells": [
  {
   "cell_type": "code",
   "execution_count": 8,
   "id": "bd9c4f8a",
   "metadata": {},
   "outputs": [],
   "source": [
    "import pandas as pd\n",
    "import numpy as np\n",
    "import matplotlib.pyplot as plt\n",
    "from sklearn.model_selection import train_test_split\n",
    "from sklearn.preprocessing import StandardScaler, LabelEncoder\n",
    "from sklearn.neighbors import KNeighborsClassifier\n",
    "import seaborn as sns\n",
    "from keras.models import Sequential\n",
    "import tensorflow as tf\n",
    "from tensorflow import keras\n",
    "from keras.layers import Conv1D, LSTM, Dropout"
   ]
  },
  {
   "cell_type": "code",
   "execution_count": 9,
   "id": "9069036a",
   "metadata": {},
   "outputs": [
    {
     "data": {
      "text/html": [
       "<div>\n",
       "<style scoped>\n",
       "    .dataframe tbody tr th:only-of-type {\n",
       "        vertical-align: middle;\n",
       "    }\n",
       "\n",
       "    .dataframe tbody tr th {\n",
       "        vertical-align: top;\n",
       "    }\n",
       "\n",
       "    .dataframe thead th {\n",
       "        text-align: right;\n",
       "    }\n",
       "</style>\n",
       "<table border=\"1\" class=\"dataframe\">\n",
       "  <thead>\n",
       "    <tr style=\"text-align: right;\">\n",
       "      <th></th>\n",
       "      <th>MPU_x</th>\n",
       "      <th>MPU_y</th>\n",
       "      <th>MPU_z</th>\n",
       "      <th>subject</th>\n",
       "      <th>type</th>\n",
       "      <th>activity</th>\n",
       "      <th>trial</th>\n",
       "    </tr>\n",
       "  </thead>\n",
       "  <tbody>\n",
       "    <tr>\n",
       "      <th>0</th>\n",
       "      <td>0.871582</td>\n",
       "      <td>-0.092041</td>\n",
       "      <td>0.540771</td>\n",
       "      <td>1</td>\n",
       "      <td>ADL</td>\n",
       "      <td>Aplausing</td>\n",
       "      <td>1</td>\n",
       "    </tr>\n",
       "    <tr>\n",
       "      <th>1</th>\n",
       "      <td>0.861572</td>\n",
       "      <td>-0.032959</td>\n",
       "      <td>0.534668</td>\n",
       "      <td>1</td>\n",
       "      <td>ADL</td>\n",
       "      <td>Aplausing</td>\n",
       "      <td>1</td>\n",
       "    </tr>\n",
       "    <tr>\n",
       "      <th>2</th>\n",
       "      <td>0.873291</td>\n",
       "      <td>-0.091064</td>\n",
       "      <td>0.583740</td>\n",
       "      <td>1</td>\n",
       "      <td>ADL</td>\n",
       "      <td>Aplausing</td>\n",
       "      <td>1</td>\n",
       "    </tr>\n",
       "    <tr>\n",
       "      <th>3</th>\n",
       "      <td>0.939209</td>\n",
       "      <td>-0.093018</td>\n",
       "      <td>0.580322</td>\n",
       "      <td>1</td>\n",
       "      <td>ADL</td>\n",
       "      <td>Aplausing</td>\n",
       "      <td>1</td>\n",
       "    </tr>\n",
       "    <tr>\n",
       "      <th>4</th>\n",
       "      <td>0.871094</td>\n",
       "      <td>-0.090820</td>\n",
       "      <td>0.586914</td>\n",
       "      <td>1</td>\n",
       "      <td>ADL</td>\n",
       "      <td>Aplausing</td>\n",
       "      <td>1</td>\n",
       "    </tr>\n",
       "    <tr>\n",
       "      <th>...</th>\n",
       "      <td>...</td>\n",
       "      <td>...</td>\n",
       "      <td>...</td>\n",
       "      <td>...</td>\n",
       "      <td>...</td>\n",
       "      <td>...</td>\n",
       "      <td>...</td>\n",
       "    </tr>\n",
       "    <tr>\n",
       "      <th>123395</th>\n",
       "      <td>0.047119</td>\n",
       "      <td>1.010254</td>\n",
       "      <td>0.095459</td>\n",
       "      <td>18</td>\n",
       "      <td>Fall</td>\n",
       "      <td>lateralFall</td>\n",
       "      <td>9</td>\n",
       "    </tr>\n",
       "    <tr>\n",
       "      <th>123396</th>\n",
       "      <td>0.051025</td>\n",
       "      <td>1.004150</td>\n",
       "      <td>0.097168</td>\n",
       "      <td>18</td>\n",
       "      <td>Fall</td>\n",
       "      <td>lateralFall</td>\n",
       "      <td>9</td>\n",
       "    </tr>\n",
       "    <tr>\n",
       "      <th>123397</th>\n",
       "      <td>0.052979</td>\n",
       "      <td>1.007568</td>\n",
       "      <td>0.099854</td>\n",
       "      <td>18</td>\n",
       "      <td>Fall</td>\n",
       "      <td>lateralFall</td>\n",
       "      <td>9</td>\n",
       "    </tr>\n",
       "    <tr>\n",
       "      <th>123398</th>\n",
       "      <td>0.053223</td>\n",
       "      <td>1.009521</td>\n",
       "      <td>0.153564</td>\n",
       "      <td>18</td>\n",
       "      <td>Fall</td>\n",
       "      <td>lateralFall</td>\n",
       "      <td>9</td>\n",
       "    </tr>\n",
       "    <tr>\n",
       "      <th>123399</th>\n",
       "      <td>0.053467</td>\n",
       "      <td>1.006836</td>\n",
       "      <td>0.155762</td>\n",
       "      <td>18</td>\n",
       "      <td>Fall</td>\n",
       "      <td>lateralFall</td>\n",
       "      <td>9</td>\n",
       "    </tr>\n",
       "  </tbody>\n",
       "</table>\n",
       "<p>123400 rows × 7 columns</p>\n",
       "</div>"
      ],
      "text/plain": [
       "           MPU_x     MPU_y     MPU_z  subject  type     activity trial\n",
       "0       0.871582 -0.092041  0.540771        1   ADL    Aplausing     1\n",
       "1       0.861572 -0.032959  0.534668        1   ADL    Aplausing     1\n",
       "2       0.873291 -0.091064  0.583740        1   ADL    Aplausing     1\n",
       "3       0.939209 -0.093018  0.580322        1   ADL    Aplausing     1\n",
       "4       0.871094 -0.090820  0.586914        1   ADL    Aplausing     1\n",
       "...          ...       ...       ...      ...   ...          ...   ...\n",
       "123395  0.047119  1.010254  0.095459       18  Fall  lateralFall     9\n",
       "123396  0.051025  1.004150  0.097168       18  Fall  lateralFall     9\n",
       "123397  0.052979  1.007568  0.099854       18  Fall  lateralFall     9\n",
       "123398  0.053223  1.009521  0.153564       18  Fall  lateralFall     9\n",
       "123399  0.053467  1.006836  0.155762       18  Fall  lateralFall     9\n",
       "\n",
       "[123400 rows x 7 columns]"
      ]
     },
     "execution_count": 9,
     "metadata": {},
     "output_type": "execute_result"
    }
   ],
   "source": [
    "df = pd.read_csv(\"C:/Users/gram/Downloads/umafall.csv\")\n",
    "df"
   ]
  },
  {
   "cell_type": "code",
   "execution_count": 10,
   "id": "8f54ef8e",
   "metadata": {},
   "outputs": [
    {
     "data": {
      "text/plain": [
       "trial\n",
       "1                    27600\n",
       "2                    25600\n",
       "3                    25200\n",
       "GettingUpOnAChair     9800\n",
       "OnABed                8200\n",
       "4                     7200\n",
       "5                     5800\n",
       "6                     5800\n",
       "7                     1400\n",
       "8                     1400\n",
       "9                      800\n",
       "10                     600\n",
       "11                     600\n",
       "12                     600\n",
       "13                     600\n",
       "14                     600\n",
       "15                     600\n",
       "16                     600\n",
       "17                     200\n",
       "18                     200\n",
       "Name: count, dtype: int64"
      ]
     },
     "execution_count": 10,
     "metadata": {},
     "output_type": "execute_result"
    }
   ],
   "source": [
    "df['trial'].value_counts()"
   ]
  },
  {
   "cell_type": "code",
   "execution_count": 11,
   "id": "0d2330fc",
   "metadata": {},
   "outputs": [
    {
     "data": {
      "text/plain": [
       "trial\n",
       "1                    27600\n",
       "2                    25600\n",
       "3                    25200\n",
       "GettingUpOnAChair     9800\n",
       "OnABed                8200\n",
       "4                     7200\n",
       "5                     5800\n",
       "6                     5800\n",
       "7                     1400\n",
       "8                     1400\n",
       "9                      800\n",
       "10                     600\n",
       "11                     600\n",
       "12                     600\n",
       "13                     600\n",
       "14                     600\n",
       "15                     600\n",
       "16                     600\n",
       "17                     200\n",
       "18                     200\n",
       "Name: count, dtype: int64"
      ]
     },
     "execution_count": 11,
     "metadata": {},
     "output_type": "execute_result"
    }
   ],
   "source": [
    "trial_encode = LabelEncoder()\n",
    "df['type'] = trial_encode.fit_transform(df['type'].values.ravel())\n",
    "df['activity'] = trial_encode.fit_transform(df['trial'].values.ravel())\n",
    "df['trial'].value_counts()"
   ]
  },
  {
   "cell_type": "code",
   "execution_count": 12,
   "id": "fa222d68",
   "metadata": {},
   "outputs": [
    {
     "data": {
      "text/html": [
       "<div>\n",
       "<style scoped>\n",
       "    .dataframe tbody tr th:only-of-type {\n",
       "        vertical-align: middle;\n",
       "    }\n",
       "\n",
       "    .dataframe tbody tr th {\n",
       "        vertical-align: top;\n",
       "    }\n",
       "\n",
       "    .dataframe thead th {\n",
       "        text-align: right;\n",
       "    }\n",
       "</style>\n",
       "<table border=\"1\" class=\"dataframe\">\n",
       "  <thead>\n",
       "    <tr style=\"text-align: right;\">\n",
       "      <th></th>\n",
       "      <th>MPU_x</th>\n",
       "      <th>MPU_y</th>\n",
       "      <th>MPU_z</th>\n",
       "      <th>subject</th>\n",
       "      <th>type</th>\n",
       "      <th>activity</th>\n",
       "    </tr>\n",
       "  </thead>\n",
       "  <tbody>\n",
       "    <tr>\n",
       "      <th>0</th>\n",
       "      <td>0.871582</td>\n",
       "      <td>-0.092041</td>\n",
       "      <td>0.540771</td>\n",
       "      <td>1</td>\n",
       "      <td>0</td>\n",
       "      <td>0</td>\n",
       "    </tr>\n",
       "    <tr>\n",
       "      <th>1</th>\n",
       "      <td>0.861572</td>\n",
       "      <td>-0.032959</td>\n",
       "      <td>0.534668</td>\n",
       "      <td>1</td>\n",
       "      <td>0</td>\n",
       "      <td>0</td>\n",
       "    </tr>\n",
       "    <tr>\n",
       "      <th>2</th>\n",
       "      <td>0.873291</td>\n",
       "      <td>-0.091064</td>\n",
       "      <td>0.583740</td>\n",
       "      <td>1</td>\n",
       "      <td>0</td>\n",
       "      <td>0</td>\n",
       "    </tr>\n",
       "    <tr>\n",
       "      <th>3</th>\n",
       "      <td>0.939209</td>\n",
       "      <td>-0.093018</td>\n",
       "      <td>0.580322</td>\n",
       "      <td>1</td>\n",
       "      <td>0</td>\n",
       "      <td>0</td>\n",
       "    </tr>\n",
       "    <tr>\n",
       "      <th>4</th>\n",
       "      <td>0.871094</td>\n",
       "      <td>-0.090820</td>\n",
       "      <td>0.586914</td>\n",
       "      <td>1</td>\n",
       "      <td>0</td>\n",
       "      <td>0</td>\n",
       "    </tr>\n",
       "  </tbody>\n",
       "</table>\n",
       "</div>"
      ],
      "text/plain": [
       "      MPU_x     MPU_y     MPU_z  subject  type  activity\n",
       "0  0.871582 -0.092041  0.540771        1     0         0\n",
       "1  0.861572 -0.032959  0.534668        1     0         0\n",
       "2  0.873291 -0.091064  0.583740        1     0         0\n",
       "3  0.939209 -0.093018  0.580322        1     0         0\n",
       "4  0.871094 -0.090820  0.586914        1     0         0"
      ]
     },
     "execution_count": 12,
     "metadata": {},
     "output_type": "execute_result"
    }
   ],
   "source": [
    "X=df.drop('trial',axis=1)\n",
    "X.head()"
   ]
  },
  {
   "cell_type": "code",
   "execution_count": 13,
   "id": "d6343d08",
   "metadata": {},
   "outputs": [
    {
     "data": {
      "text/plain": [
       "trial\n",
       "1                    27600\n",
       "2                    25600\n",
       "3                    25200\n",
       "GettingUpOnAChair     9800\n",
       "OnABed                8200\n",
       "4                     7200\n",
       "5                     5800\n",
       "6                     5800\n",
       "7                     1400\n",
       "8                     1400\n",
       "9                      800\n",
       "10                     600\n",
       "11                     600\n",
       "12                     600\n",
       "13                     600\n",
       "14                     600\n",
       "15                     600\n",
       "16                     600\n",
       "17                     200\n",
       "18                     200\n",
       "Name: count, dtype: int64"
      ]
     },
     "execution_count": 13,
     "metadata": {},
     "output_type": "execute_result"
    }
   ],
   "source": [
    "y=df['trial']\n",
    "y.value_counts()"
   ]
  },
  {
   "cell_type": "code",
   "execution_count": 14,
   "id": "406eb9b4",
   "metadata": {},
   "outputs": [
    {
     "data": {
      "text/plain": [
       "((111060, 6), (12340, 6), (111060,), (12340,))"
      ]
     },
     "execution_count": 14,
     "metadata": {},
     "output_type": "execute_result"
    }
   ],
   "source": [
    "from sklearn.model_selection import train_test_split\n",
    "\n",
    "X_train, X_test, y_train, y_test = train_test_split(X, y,test_size = 0.1, shuffle = True, random_state = 21)\n",
    "X_train = X_train.values\n",
    "X_test = X_test.values\n",
    "X_train.shape, X_test.shape, y_train.shape, y_test.shape"
   ]
  },
  {
   "cell_type": "code",
   "execution_count": 15,
   "id": "82413158",
   "metadata": {},
   "outputs": [],
   "source": [
    "y_train_onehot = pd.get_dummies(y_train).values\n",
    "y_test_onehot = pd.get_dummies(y_test).values"
   ]
  },
  {
   "cell_type": "code",
   "execution_count": 16,
   "id": "240c7468",
   "metadata": {},
   "outputs": [
    {
     "name": "stdout",
     "output_type": "stream",
     "text": [
      "(111060, 6)\n",
      "(12340, 6)\n",
      "(111060, 20)\n",
      "(12340, 20)\n"
     ]
    }
   ],
   "source": [
    "print(X_train.shape)\n",
    "print(X_test.shape)\n",
    "print(y_train_onehot.shape)\n",
    "print(y_test_onehot.shape)"
   ]
  },
  {
   "cell_type": "code",
   "execution_count": 17,
   "id": "54f5e388",
   "metadata": {},
   "outputs": [
    {
     "data": {
      "text/plain": [
       "((111060, 6, 1), (12340, 6, 1))"
      ]
     },
     "execution_count": 17,
     "metadata": {},
     "output_type": "execute_result"
    }
   ],
   "source": [
    "#데이터셋을 3차원으로 변환\n",
    "\n",
    "X_train = X_train.reshape(len(X_train), X_train.shape[1], 1)\n",
    "X_test = X_test.reshape(len(X_test), X_test.shape[1], 1)\n",
    "X_train.shape, X_test.shape"
   ]
  },
  {
   "cell_type": "code",
   "execution_count": 18,
   "id": "3de1aa84",
   "metadata": {},
   "outputs": [],
   "source": [
    "from tensorflow.keras.layers import Input\n",
    "from keras.layers import Dense, Flatten, Dropout"
   ]
  },
  {
   "cell_type": "code",
   "execution_count": 19,
   "id": "6fcaba65",
   "metadata": {},
   "outputs": [],
   "source": [
    "model = Sequential()\n",
    "model.add(LSTM(units = 64, input_shape = [6, 1], activation = 'relu'))\n",
    "model.add(Dropout(rate = 0.5))\n",
    "model.add(Dense(units = 64, activation = \"relu\"))\n",
    "model.add(Dense(20, activation = \"softmax\"))"
   ]
  },
  {
   "cell_type": "code",
   "execution_count": 20,
   "id": "c7aefd21",
   "metadata": {
    "scrolled": true
   },
   "outputs": [
    {
     "name": "stdout",
     "output_type": "stream",
     "text": [
      "Model: \"sequential\"\n",
      "_________________________________________________________________\n",
      " Layer (type)                Output Shape              Param #   \n",
      "=================================================================\n",
      " lstm (LSTM)                 (None, 64)                16896     \n",
      "                                                                 \n",
      " dropout (Dropout)           (None, 64)                0         \n",
      "                                                                 \n",
      " dense (Dense)               (None, 64)                4160      \n",
      "                                                                 \n",
      " dense_1 (Dense)             (None, 20)                1300      \n",
      "                                                                 \n",
      "=================================================================\n",
      "Total params: 22,356\n",
      "Trainable params: 22,356\n",
      "Non-trainable params: 0\n",
      "_________________________________________________________________\n"
     ]
    }
   ],
   "source": [
    "model.compile(loss = \"categorical_crossentropy\", optimizer = \"adam\", metrics=['accuracy'])\n",
    "model.summary()"
   ]
  },
  {
   "cell_type": "code",
   "execution_count": 22,
   "id": "e2311814",
   "metadata": {},
   "outputs": [
    {
     "name": "stdout",
     "output_type": "stream",
     "text": [
      "Epoch 1/10\n",
      "3471/3471 [==============================] - 44s 13ms/step - loss: 0.0709 - accuracy: 0.9738 - val_loss: 0.3603 - val_accuracy: 0.8878\n",
      "Epoch 2/10\n",
      "3471/3471 [==============================] - 45s 13ms/step - loss: 0.0644 - accuracy: 0.9771 - val_loss: 0.2858 - val_accuracy: 0.8654\n",
      "Epoch 3/10\n",
      "3471/3471 [==============================] - 44s 13ms/step - loss: 0.0578 - accuracy: 0.9795 - val_loss: 0.8020 - val_accuracy: 0.8447\n",
      "Epoch 4/10\n",
      "3471/3471 [==============================] - 44s 13ms/step - loss: 0.0540 - accuracy: 0.9816 - val_loss: 0.3664 - val_accuracy: 0.8200\n",
      "Epoch 5/10\n",
      "3471/3471 [==============================] - 44s 13ms/step - loss: 0.0496 - accuracy: 0.9823 - val_loss: 0.3869 - val_accuracy: 0.8511\n",
      "Epoch 6/10\n",
      "3471/3471 [==============================] - 44s 13ms/step - loss: 0.0450 - accuracy: 0.9844 - val_loss: 0.3770 - val_accuracy: 0.8783\n",
      "Epoch 7/10\n",
      "3471/3471 [==============================] - 44s 13ms/step - loss: 0.0419 - accuracy: 0.9857 - val_loss: 0.6917 - val_accuracy: 0.8488\n",
      "Epoch 8/10\n",
      "3471/3471 [==============================] - 41s 12ms/step - loss: 0.0402 - accuracy: 0.9863 - val_loss: 0.4334 - val_accuracy: 0.8682\n",
      "Epoch 9/10\n",
      "3471/3471 [==============================] - 48s 14ms/step - loss: 0.0365 - accuracy: 0.9875 - val_loss: 0.6413 - val_accuracy: 0.8489\n",
      "Epoch 10/10\n",
      "3471/3471 [==============================] - 47s 14ms/step - loss: 0.0354 - accuracy: 0.9884 - val_loss: 0.3734 - val_accuracy: 0.9003\n"
     ]
    }
   ],
   "source": [
    "train_epochs = 10\n",
    "history = model.fit(X_train, y_train_onehot, epochs=train_epochs, batch_size = 32, validation_data = (X_test, y_test_onehot))"
   ]
  },
  {
   "cell_type": "code",
   "execution_count": 23,
   "id": "12597fec",
   "metadata": {},
   "outputs": [
    {
     "data": {
      "image/png": "[encoded data removed]",
      "text/plain": [
       "<Figure size 640x480 with 1 Axes>"
      ]
     },
     "metadata": {},
     "output_type": "display_data"
    }
   ],
   "source": [
    "import matplotlib.pyplot as plt\n",
    "import seaborn as sns\n",
    "\n",
    "loss = history.history['loss']\n",
    "val_loss = history.history['val_loss']\n",
    "epochs = range(1, len(loss) + 1)\n",
    "plt.plot(epochs, loss, 'y', label='Training loss')\n",
    "plt.plot(epochs, val_loss, 'r', label='Validation loss')\n",
    "plt.title('Training and validation loss')\n",
    "plt.xlabel('Epochs')\n",
    "plt.ylabel('Loss')\n",
    "plt.legend()\n",
    "plt.show()"
   ]
  },
  {
   "cell_type": "code",
   "execution_count": 24,
   "id": "afb10f42",
   "metadata": {},
   "outputs": [
    {
     "data": {
      "image/png": "[encoded data removed]",
      "text/plain": [
       "<Figure size 640x480 with 1 Axes>"
      ]
     },
     "metadata": {},
     "output_type": "display_data"
    }
   ],
   "source": [
    "acc =history.history['accuracy']\n",
    "val_acc =history.history['val_accuracy']\n",
    "plt.plot(epochs, acc, 'y', label='Training acc')\n",
    "plt.plot(epochs, val_acc, 'r', label='Validation acc')\n",
    "plt.title('Training and validation accuracy')\n",
    "plt.xlabel('Epochs')\n",
    "plt.ylabel('Accuracy')\n",
    "plt.legend()\n",
    "plt.show()"
   ]
  },
  {
   "cell_type": "code",
   "execution_count": 25,
   "id": "2c0ccd96",
   "metadata": {},
   "outputs": [
    {
     "name": "stdout",
     "output_type": "stream",
     "text": [
      "386/386 [==============================] - 4s 8ms/step\n"
     ]
    }
   ],
   "source": [
    "from sklearn.metrics import classification_report,confusion_matrix\n",
    "\n",
    "\n",
    "y_pred = model.predict(X_test)\n",
    "y_test_class = np.argmax(y_test_onehot,axis=1)\n",
    "y_pred_class = np.argmax(y_pred,axis=1)"
   ]
  },
  {
   "cell_type": "code",
   "execution_count": 26,
   "id": "8d762ad7",
   "metadata": {},
   "outputs": [
    {
     "name": "stdout",
     "output_type": "stream",
     "text": [
      "              precision    recall  f1-score   support\n",
      "\n",
      "           0       1.00      1.00      1.00      2822\n",
      "           1       1.00      1.00      1.00        63\n",
      "           2       0.00      0.00      0.00        55\n",
      "           3       0.52      1.00      0.68        59\n",
      "           4       0.00      0.00      0.00        54\n",
      "           5       0.48      1.00      0.64        49\n",
      "           6       1.00      1.00      1.00        69\n",
      "           7       1.00      1.00      1.00        65\n",
      "           8       0.61      1.00      0.76        25\n",
      "           9       0.00      0.00      0.00        16\n",
      "          10       1.00      1.00      1.00      2553\n",
      "          11       1.00      1.00      1.00      2535\n",
      "          12       1.00      1.00      1.00       706\n",
      "          13       0.94      1.00      0.97       572\n",
      "          14       0.83      0.94      0.88       574\n",
      "          15       0.05      0.06      0.05       119\n",
      "          16       0.00      0.00      0.00       140\n",
      "          17       1.00      1.00      1.00        69\n",
      "          18       0.55      1.00      0.71       982\n",
      "          19       0.00      0.00      0.00       813\n",
      "\n",
      "    accuracy                           0.90     12340\n",
      "   macro avg       0.60      0.70      0.63     12340\n",
      "weighted avg       0.85      0.90      0.87     12340\n",
      "\n",
      "[[2822    0    0    0    0    0    0    0    0    0    0    0    0    0\n",
      "     0    0    0    0    0    0]\n",
      " [   0   63    0    0    0    0    0    0    0    0    0    0    0    0\n",
      "     0    0    0    0    0    0]\n",
      " [   0    0    0   55    0    0    0    0    0    0    0    0    0    0\n",
      "     0    0    0    0    0    0]\n",
      " [   0    0    0   59    0    0    0    0    0    0    0    0    0    0\n",
      "     0    0    0    0    0    0]\n",
      " [   0    0    0    0    0   54    0    0    0    0    0    0    0    0\n",
      "     0    0    0    0    0    0]\n",
      " [   0    0    0    0    0   49    0    0    0    0    0    0    0    0\n",
      "     0    0    0    0    0    0]\n",
      " [   0    0    0    0    0    0   69    0    0    0    0    0    0    0\n",
      "     0    0    0    0    0    0]\n",
      " [   0    0    0    0    0    0    0   65    0    0    0    0    0    0\n",
      "     0    0    0    0    0    0]\n",
      " [   0    0    0    0    0    0    0    0   25    0    0    0    0    0\n",
      "     0    0    0    0    0    0]\n",
      " [   0    0    0    0    0    0    0    0   16    0    0    0    0    0\n",
      "     0    0    0    0    0    0]\n",
      " [   0    0    0    0    0    0    0    0    0    0 2552    1    0    0\n",
      "     0    0    0    0    0    0]\n",
      " [   0    0    0    0    0    0    0    0    0    0    0 2533    2    0\n",
      "     0    0    0    0    0    0]\n",
      " [   0    0    0    0    0    0    0    0    0    0    0    0  706    0\n",
      "     0    0    0    0    0    0]\n",
      " [   0    0    0    0    0    0    0    0    0    0    0    0    0  571\n",
      "     1    0    0    0    0    0]\n",
      " [   0    0    0    0    0    0    0    0    0    0    0    0    0   36\n",
      "   538    0    0    0    0    0]\n",
      " [   0    0    0    0    0    0    0    0    0    0    0    0    0    0\n",
      "   112    7    0    0    0    0]\n",
      " [   0    0    0    0    0    0    0    0    0    0    0    0    0    0\n",
      "     0  140    0    0    0    0]\n",
      " [   0    0    0    0    0    0    0    0    0    0    0    0    0    0\n",
      "     0    0    0   69    0    0]\n",
      " [   0    0    0    0    0    0    0    0    0    0    0    0    0    0\n",
      "     0    0    0    0  982    0]\n",
      " [   0    0    0    0    0    0    0    0    0    0    0    0    0    0\n",
      "     0    0    0    0  813    0]]\n"
     ]
    },
    {
     "name": "stderr",
     "output_type": "stream",
     "text": [
      "C:\\Users\\gram\\anaconda3\\envs\\ml\\lib\\site-packages\\sklearn\\metrics\\_classification.py:1469: UndefinedMetricWarning: Precision and F-score are ill-defined and being set to 0.0 in labels with no predicted samples. Use `zero_division` parameter to control this behavior.\n",
      "  _warn_prf(average, modifier, msg_start, len(result))\n",
      "C:\\Users\\gram\\anaconda3\\envs\\ml\\lib\\site-packages\\sklearn\\metrics\\_classification.py:1469: UndefinedMetricWarning: Precision and F-score are ill-defined and being set to 0.0 in labels with no predicted samples. Use `zero_division` parameter to control this behavior.\n",
      "  _warn_prf(average, modifier, msg_start, len(result))\n",
      "C:\\Users\\gram\\anaconda3\\envs\\ml\\lib\\site-packages\\sklearn\\metrics\\_classification.py:1469: UndefinedMetricWarning: Precision and F-score are ill-defined and being set to 0.0 in labels with no predicted samples. Use `zero_division` parameter to control this behavior.\n",
      "  _warn_prf(average, modifier, msg_start, len(result))\n"
     ]
    }
   ],
   "source": [
    "#Accuracy of the predicted values\n",
    "from sklearn.metrics import classification_report,confusion_matrix\n",
    "print(classification_report(y_test_class,y_pred_class))\n",
    "print(confusion_matrix(y_test_class,y_pred_class))"
   ]
  },
  {
   "cell_type": "code",
   "execution_count": null,
   "id": "311f654b",
   "metadata": {},
   "outputs": [],
   "source": []
  }
 ],
 "metadata": {
  "kernelspec": {
   "display_name": "ml",
   "language": "python",
   "name": "ml"
  },
  "language_info": {
   "codemirror_mode": {
    "name": "ipython",
    "version": 3
   },
   "file_extension": ".py",
   "mimetype": "text/x-python",
   "name": "python",
   "nbconvert_exporter": "python",
   "pygments_lexer": "ipython3",
   "version": "3.10.13"
  }
 },
 "nbformat": 4,
 "nbformat_minor": 5
}
