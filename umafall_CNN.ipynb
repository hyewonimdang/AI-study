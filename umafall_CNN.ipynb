{
 "cells": [
  {
   "cell_type": "code",
   "execution_count": 54,
   "id": "d237b9f3",
   "metadata": {},
   "outputs": [],
   "source": [
    "import pandas as pd\n",
    "import numpy as np\n",
    "import matplotlib.pyplot as plt\n",
    "from sklearn.model_selection import train_test_split\n",
    "from sklearn.preprocessing import StandardScaler, LabelEncoder\n",
    "from sklearn.neighbors import KNeighborsClassifier\n",
    "import seaborn as sns\n",
    "import tensorflow as tf\n",
    "from tensorflow import keras"
   ]
  },
  {
   "cell_type": "code",
   "execution_count": 55,
   "id": "97e610bf",
   "metadata": {
    "scrolled": true
   },
   "outputs": [
    {
     "data": {
      "text/html": [
       "<div>\n",
       "<style scoped>\n",
       "    .dataframe tbody tr th:only-of-type {\n",
       "        vertical-align: middle;\n",
       "    }\n",
       "\n",
       "    .dataframe tbody tr th {\n",
       "        vertical-align: top;\n",
       "    }\n",
       "\n",
       "    .dataframe thead th {\n",
       "        text-align: right;\n",
       "    }\n",
       "</style>\n",
       "<table border=\"1\" class=\"dataframe\">\n",
       "  <thead>\n",
       "    <tr style=\"text-align: right;\">\n",
       "      <th></th>\n",
       "      <th>MPU_x</th>\n",
       "      <th>MPU_y</th>\n",
       "      <th>MPU_z</th>\n",
       "      <th>subject</th>\n",
       "      <th>type</th>\n",
       "      <th>activity</th>\n",
       "      <th>trial</th>\n",
       "    </tr>\n",
       "  </thead>\n",
       "  <tbody>\n",
       "    <tr>\n",
       "      <th>0</th>\n",
       "      <td>0.871582</td>\n",
       "      <td>-0.092041</td>\n",
       "      <td>0.540771</td>\n",
       "      <td>1</td>\n",
       "      <td>ADL</td>\n",
       "      <td>Aplausing</td>\n",
       "      <td>1</td>\n",
       "    </tr>\n",
       "    <tr>\n",
       "      <th>1</th>\n",
       "      <td>0.861572</td>\n",
       "      <td>-0.032959</td>\n",
       "      <td>0.534668</td>\n",
       "      <td>1</td>\n",
       "      <td>ADL</td>\n",
       "      <td>Aplausing</td>\n",
       "      <td>1</td>\n",
       "    </tr>\n",
       "    <tr>\n",
       "      <th>2</th>\n",
       "      <td>0.873291</td>\n",
       "      <td>-0.091064</td>\n",
       "      <td>0.583740</td>\n",
       "      <td>1</td>\n",
       "      <td>ADL</td>\n",
       "      <td>Aplausing</td>\n",
       "      <td>1</td>\n",
       "    </tr>\n",
       "    <tr>\n",
       "      <th>3</th>\n",
       "      <td>0.939209</td>\n",
       "      <td>-0.093018</td>\n",
       "      <td>0.580322</td>\n",
       "      <td>1</td>\n",
       "      <td>ADL</td>\n",
       "      <td>Aplausing</td>\n",
       "      <td>1</td>\n",
       "    </tr>\n",
       "    <tr>\n",
       "      <th>4</th>\n",
       "      <td>0.871094</td>\n",
       "      <td>-0.090820</td>\n",
       "      <td>0.586914</td>\n",
       "      <td>1</td>\n",
       "      <td>ADL</td>\n",
       "      <td>Aplausing</td>\n",
       "      <td>1</td>\n",
       "    </tr>\n",
       "    <tr>\n",
       "      <th>...</th>\n",
       "      <td>...</td>\n",
       "      <td>...</td>\n",
       "      <td>...</td>\n",
       "      <td>...</td>\n",
       "      <td>...</td>\n",
       "      <td>...</td>\n",
       "      <td>...</td>\n",
       "    </tr>\n",
       "    <tr>\n",
       "      <th>123395</th>\n",
       "      <td>0.047119</td>\n",
       "      <td>1.010254</td>\n",
       "      <td>0.095459</td>\n",
       "      <td>18</td>\n",
       "      <td>Fall</td>\n",
       "      <td>lateralFall</td>\n",
       "      <td>9</td>\n",
       "    </tr>\n",
       "    <tr>\n",
       "      <th>123396</th>\n",
       "      <td>0.051025</td>\n",
       "      <td>1.004150</td>\n",
       "      <td>0.097168</td>\n",
       "      <td>18</td>\n",
       "      <td>Fall</td>\n",
       "      <td>lateralFall</td>\n",
       "      <td>9</td>\n",
       "    </tr>\n",
       "    <tr>\n",
       "      <th>123397</th>\n",
       "      <td>0.052979</td>\n",
       "      <td>1.007568</td>\n",
       "      <td>0.099854</td>\n",
       "      <td>18</td>\n",
       "      <td>Fall</td>\n",
       "      <td>lateralFall</td>\n",
       "      <td>9</td>\n",
       "    </tr>\n",
       "    <tr>\n",
       "      <th>123398</th>\n",
       "      <td>0.053223</td>\n",
       "      <td>1.009521</td>\n",
       "      <td>0.153564</td>\n",
       "      <td>18</td>\n",
       "      <td>Fall</td>\n",
       "      <td>lateralFall</td>\n",
       "      <td>9</td>\n",
       "    </tr>\n",
       "    <tr>\n",
       "      <th>123399</th>\n",
       "      <td>0.053467</td>\n",
       "      <td>1.006836</td>\n",
       "      <td>0.155762</td>\n",
       "      <td>18</td>\n",
       "      <td>Fall</td>\n",
       "      <td>lateralFall</td>\n",
       "      <td>9</td>\n",
       "    </tr>\n",
       "  </tbody>\n",
       "</table>\n",
       "<p>123400 rows × 7 columns</p>\n",
       "</div>"
      ],
      "text/plain": [
       "           MPU_x     MPU_y     MPU_z  subject  type     activity trial\n",
       "0       0.871582 -0.092041  0.540771        1   ADL    Aplausing     1\n",
       "1       0.861572 -0.032959  0.534668        1   ADL    Aplausing     1\n",
       "2       0.873291 -0.091064  0.583740        1   ADL    Aplausing     1\n",
       "3       0.939209 -0.093018  0.580322        1   ADL    Aplausing     1\n",
       "4       0.871094 -0.090820  0.586914        1   ADL    Aplausing     1\n",
       "...          ...       ...       ...      ...   ...          ...   ...\n",
       "123395  0.047119  1.010254  0.095459       18  Fall  lateralFall     9\n",
       "123396  0.051025  1.004150  0.097168       18  Fall  lateralFall     9\n",
       "123397  0.052979  1.007568  0.099854       18  Fall  lateralFall     9\n",
       "123398  0.053223  1.009521  0.153564       18  Fall  lateralFall     9\n",
       "123399  0.053467  1.006836  0.155762       18  Fall  lateralFall     9\n",
       "\n",
       "[123400 rows x 7 columns]"
      ]
     },
     "execution_count": 55,
     "metadata": {},
     "output_type": "execute_result"
    }
   ],
   "source": [
    "df = pd.read_csv(\"C:/Users/gram/Downloads/umafall.csv\")\n",
    "\n",
    "df"
   ]
  },
  {
   "cell_type": "code",
   "execution_count": 56,
   "id": "540bb473",
   "metadata": {
    "scrolled": false
   },
   "outputs": [
    {
     "data": {
      "text/plain": [
       "Index(['MPU_x', 'MPU_y', 'MPU_z', 'subject', 'type', 'activity', 'trial'], dtype='object')"
      ]
     },
     "execution_count": 56,
     "metadata": {},
     "output_type": "execute_result"
    }
   ],
   "source": [
    "df.columns"
   ]
  },
  {
   "cell_type": "code",
   "execution_count": 57,
   "id": "29a6235c",
   "metadata": {
    "scrolled": false
   },
   "outputs": [
    {
     "data": {
      "text/plain": [
       "MPU_x       123400\n",
       "MPU_y       123400\n",
       "MPU_z       123400\n",
       "subject     123400\n",
       "type        123400\n",
       "activity    123400\n",
       "trial       123400\n",
       "dtype: int64"
      ]
     },
     "execution_count": 57,
     "metadata": {},
     "output_type": "execute_result"
    }
   ],
   "source": [
    "df.count()"
   ]
  },
  {
   "cell_type": "code",
   "execution_count": 58,
   "id": "755f3c78",
   "metadata": {
    "scrolled": true
   },
   "outputs": [
    {
     "data": {
      "text/plain": [
       "Text(0.5, 1.0, 'trial')"
      ]
     },
     "execution_count": 58,
     "metadata": {},
     "output_type": "execute_result"
    },
    {
     "data": {
      "image/png": "[encoded data removed]",
      "text/plain": [
       "<Figure size 640x480 with 1 Axes>"
      ]
     },
     "metadata": {},
     "output_type": "display_data"
    }
   ],
   "source": [
    "#trial 별 개수\n",
    "sns.countplot(data = df, x=\"trial\")\n",
    "plt.xlabel(\"\")\n",
    "plt.ylabel(\"Count\")\n",
    "plt.title(\"trial\")"
   ]
  },
  {
   "cell_type": "code",
   "execution_count": 59,
   "id": "c10a58ea",
   "metadata": {
    "scrolled": true
   },
   "outputs": [
    {
     "data": {
      "text/plain": [
       "trial\n",
       "1                    27600\n",
       "2                    25600\n",
       "3                    25200\n",
       "GettingUpOnAChair     9800\n",
       "OnABed                8200\n",
       "4                     7200\n",
       "5                     5800\n",
       "6                     5800\n",
       "7                     1400\n",
       "8                     1400\n",
       "9                      800\n",
       "10                     600\n",
       "11                     600\n",
       "12                     600\n",
       "13                     600\n",
       "14                     600\n",
       "15                     600\n",
       "16                     600\n",
       "17                     200\n",
       "18                     200\n",
       "Name: count, dtype: int64"
      ]
     },
     "execution_count": 59,
     "metadata": {},
     "output_type": "execute_result"
    }
   ],
   "source": [
    "df['trial'].value_counts()"
   ]
  },
  {
   "cell_type": "code",
   "execution_count": 60,
   "id": "92b2e0e4",
   "metadata": {
    "scrolled": true
   },
   "outputs": [
    {
     "data": {
      "text/html": [
       "<div>\n",
       "<style scoped>\n",
       "    .dataframe tbody tr th:only-of-type {\n",
       "        vertical-align: middle;\n",
       "    }\n",
       "\n",
       "    .dataframe tbody tr th {\n",
       "        vertical-align: top;\n",
       "    }\n",
       "\n",
       "    .dataframe thead th {\n",
       "        text-align: right;\n",
       "    }\n",
       "</style>\n",
       "<table border=\"1\" class=\"dataframe\">\n",
       "  <thead>\n",
       "    <tr style=\"text-align: right;\">\n",
       "      <th></th>\n",
       "      <th>MPU_x</th>\n",
       "      <th>MPU_y</th>\n",
       "      <th>MPU_z</th>\n",
       "      <th>subject</th>\n",
       "      <th>type</th>\n",
       "      <th>activity</th>\n",
       "      <th>trial</th>\n",
       "    </tr>\n",
       "  </thead>\n",
       "  <tbody>\n",
       "    <tr>\n",
       "      <th>0</th>\n",
       "      <td>0.871582</td>\n",
       "      <td>-0.092041</td>\n",
       "      <td>0.540771</td>\n",
       "      <td>1</td>\n",
       "      <td>0</td>\n",
       "      <td>0</td>\n",
       "      <td>1</td>\n",
       "    </tr>\n",
       "    <tr>\n",
       "      <th>1</th>\n",
       "      <td>0.861572</td>\n",
       "      <td>-0.032959</td>\n",
       "      <td>0.534668</td>\n",
       "      <td>1</td>\n",
       "      <td>0</td>\n",
       "      <td>0</td>\n",
       "      <td>1</td>\n",
       "    </tr>\n",
       "    <tr>\n",
       "      <th>2</th>\n",
       "      <td>0.873291</td>\n",
       "      <td>-0.091064</td>\n",
       "      <td>0.583740</td>\n",
       "      <td>1</td>\n",
       "      <td>0</td>\n",
       "      <td>0</td>\n",
       "      <td>1</td>\n",
       "    </tr>\n",
       "    <tr>\n",
       "      <th>3</th>\n",
       "      <td>0.939209</td>\n",
       "      <td>-0.093018</td>\n",
       "      <td>0.580322</td>\n",
       "      <td>1</td>\n",
       "      <td>0</td>\n",
       "      <td>0</td>\n",
       "      <td>1</td>\n",
       "    </tr>\n",
       "    <tr>\n",
       "      <th>4</th>\n",
       "      <td>0.871094</td>\n",
       "      <td>-0.090820</td>\n",
       "      <td>0.586914</td>\n",
       "      <td>1</td>\n",
       "      <td>0</td>\n",
       "      <td>0</td>\n",
       "      <td>1</td>\n",
       "    </tr>\n",
       "    <tr>\n",
       "      <th>...</th>\n",
       "      <td>...</td>\n",
       "      <td>...</td>\n",
       "      <td>...</td>\n",
       "      <td>...</td>\n",
       "      <td>...</td>\n",
       "      <td>...</td>\n",
       "      <td>...</td>\n",
       "    </tr>\n",
       "    <tr>\n",
       "      <th>123395</th>\n",
       "      <td>0.047119</td>\n",
       "      <td>1.010254</td>\n",
       "      <td>0.095459</td>\n",
       "      <td>18</td>\n",
       "      <td>1</td>\n",
       "      <td>14</td>\n",
       "      <td>9</td>\n",
       "    </tr>\n",
       "    <tr>\n",
       "      <th>123396</th>\n",
       "      <td>0.051025</td>\n",
       "      <td>1.004150</td>\n",
       "      <td>0.097168</td>\n",
       "      <td>18</td>\n",
       "      <td>1</td>\n",
       "      <td>14</td>\n",
       "      <td>9</td>\n",
       "    </tr>\n",
       "    <tr>\n",
       "      <th>123397</th>\n",
       "      <td>0.052979</td>\n",
       "      <td>1.007568</td>\n",
       "      <td>0.099854</td>\n",
       "      <td>18</td>\n",
       "      <td>1</td>\n",
       "      <td>14</td>\n",
       "      <td>9</td>\n",
       "    </tr>\n",
       "    <tr>\n",
       "      <th>123398</th>\n",
       "      <td>0.053223</td>\n",
       "      <td>1.009521</td>\n",
       "      <td>0.153564</td>\n",
       "      <td>18</td>\n",
       "      <td>1</td>\n",
       "      <td>14</td>\n",
       "      <td>9</td>\n",
       "    </tr>\n",
       "    <tr>\n",
       "      <th>123399</th>\n",
       "      <td>0.053467</td>\n",
       "      <td>1.006836</td>\n",
       "      <td>0.155762</td>\n",
       "      <td>18</td>\n",
       "      <td>1</td>\n",
       "      <td>14</td>\n",
       "      <td>9</td>\n",
       "    </tr>\n",
       "  </tbody>\n",
       "</table>\n",
       "<p>123400 rows × 7 columns</p>\n",
       "</div>"
      ],
      "text/plain": [
       "           MPU_x     MPU_y     MPU_z  subject  type  activity trial\n",
       "0       0.871582 -0.092041  0.540771        1     0         0     1\n",
       "1       0.861572 -0.032959  0.534668        1     0         0     1\n",
       "2       0.873291 -0.091064  0.583740        1     0         0     1\n",
       "3       0.939209 -0.093018  0.580322        1     0         0     1\n",
       "4       0.871094 -0.090820  0.586914        1     0         0     1\n",
       "...          ...       ...       ...      ...   ...       ...   ...\n",
       "123395  0.047119  1.010254  0.095459       18     1        14     9\n",
       "123396  0.051025  1.004150  0.097168       18     1        14     9\n",
       "123397  0.052979  1.007568  0.099854       18     1        14     9\n",
       "123398  0.053223  1.009521  0.153564       18     1        14     9\n",
       "123399  0.053467  1.006836  0.155762       18     1        14     9\n",
       "\n",
       "[123400 rows x 7 columns]"
      ]
     },
     "execution_count": 60,
     "metadata": {},
     "output_type": "execute_result"
    }
   ],
   "source": [
    "trial_encode = LabelEncoder()\n",
    "df['type'] = trial_encode.fit_transform(df['type'].values.ravel())\n",
    "df['activity'] = trial_encode.fit_transform(df['activity'].values.ravel())\n",
    "df"
   ]
  },
  {
   "cell_type": "code",
   "execution_count": 61,
   "id": "3eccadb3",
   "metadata": {},
   "outputs": [
    {
     "data": {
      "text/html": [
       "<div>\n",
       "<style scoped>\n",
       "    .dataframe tbody tr th:only-of-type {\n",
       "        vertical-align: middle;\n",
       "    }\n",
       "\n",
       "    .dataframe tbody tr th {\n",
       "        vertical-align: top;\n",
       "    }\n",
       "\n",
       "    .dataframe thead th {\n",
       "        text-align: right;\n",
       "    }\n",
       "</style>\n",
       "<table border=\"1\" class=\"dataframe\">\n",
       "  <thead>\n",
       "    <tr style=\"text-align: right;\">\n",
       "      <th></th>\n",
       "      <th>MPU_x</th>\n",
       "      <th>MPU_y</th>\n",
       "      <th>MPU_z</th>\n",
       "      <th>subject</th>\n",
       "      <th>type</th>\n",
       "      <th>activity</th>\n",
       "    </tr>\n",
       "  </thead>\n",
       "  <tbody>\n",
       "    <tr>\n",
       "      <th>0</th>\n",
       "      <td>0.871582</td>\n",
       "      <td>-0.092041</td>\n",
       "      <td>0.540771</td>\n",
       "      <td>1</td>\n",
       "      <td>0</td>\n",
       "      <td>0</td>\n",
       "    </tr>\n",
       "    <tr>\n",
       "      <th>1</th>\n",
       "      <td>0.861572</td>\n",
       "      <td>-0.032959</td>\n",
       "      <td>0.534668</td>\n",
       "      <td>1</td>\n",
       "      <td>0</td>\n",
       "      <td>0</td>\n",
       "    </tr>\n",
       "    <tr>\n",
       "      <th>2</th>\n",
       "      <td>0.873291</td>\n",
       "      <td>-0.091064</td>\n",
       "      <td>0.583740</td>\n",
       "      <td>1</td>\n",
       "      <td>0</td>\n",
       "      <td>0</td>\n",
       "    </tr>\n",
       "    <tr>\n",
       "      <th>3</th>\n",
       "      <td>0.939209</td>\n",
       "      <td>-0.093018</td>\n",
       "      <td>0.580322</td>\n",
       "      <td>1</td>\n",
       "      <td>0</td>\n",
       "      <td>0</td>\n",
       "    </tr>\n",
       "    <tr>\n",
       "      <th>4</th>\n",
       "      <td>0.871094</td>\n",
       "      <td>-0.090820</td>\n",
       "      <td>0.586914</td>\n",
       "      <td>1</td>\n",
       "      <td>0</td>\n",
       "      <td>0</td>\n",
       "    </tr>\n",
       "  </tbody>\n",
       "</table>\n",
       "</div>"
      ],
      "text/plain": [
       "      MPU_x     MPU_y     MPU_z  subject  type  activity\n",
       "0  0.871582 -0.092041  0.540771        1     0         0\n",
       "1  0.861572 -0.032959  0.534668        1     0         0\n",
       "2  0.873291 -0.091064  0.583740        1     0         0\n",
       "3  0.939209 -0.093018  0.580322        1     0         0\n",
       "4  0.871094 -0.090820  0.586914        1     0         0"
      ]
     },
     "execution_count": 61,
     "metadata": {},
     "output_type": "execute_result"
    }
   ],
   "source": [
    "X=df.drop('trial',axis=1)\n",
    "X.head()"
   ]
  },
  {
   "cell_type": "code",
   "execution_count": 62,
   "id": "369aeb3b",
   "metadata": {},
   "outputs": [
    {
     "data": {
      "text/plain": [
       "trial\n",
       "1                    27600\n",
       "2                    25600\n",
       "3                    25200\n",
       "GettingUpOnAChair     9800\n",
       "OnABed                8200\n",
       "4                     7200\n",
       "5                     5800\n",
       "6                     5800\n",
       "7                     1400\n",
       "8                     1400\n",
       "9                      800\n",
       "10                     600\n",
       "11                     600\n",
       "12                     600\n",
       "13                     600\n",
       "14                     600\n",
       "15                     600\n",
       "16                     600\n",
       "17                     200\n",
       "18                     200\n",
       "Name: count, dtype: int64"
      ]
     },
     "execution_count": 62,
     "metadata": {},
     "output_type": "execute_result"
    }
   ],
   "source": [
    "y=df['trial']\n",
    "y.value_counts()"
   ]
  },
  {
   "cell_type": "code",
   "execution_count": 78,
   "id": "5f304af3",
   "metadata": {},
   "outputs": [
    {
     "data": {
      "text/plain": [
       "((111060, 6), (12340, 6), (111060,), (12340,))"
      ]
     },
     "execution_count": 78,
     "metadata": {},
     "output_type": "execute_result"
    }
   ],
   "source": [
    "from sklearn.model_selection import train_test_split\n",
    "\n",
    "X_train, X_test, y_train, y_test = train_test_split(X, y,test_size = 0.1, shuffle = True, random_state = 21)\n",
    "X_train = X_train.values\n",
    "X_test = X_test.values\n",
    "X_train.shape, X_test.shape, y_train.shape, y_test.shape"
   ]
  },
  {
   "cell_type": "code",
   "execution_count": 79,
   "id": "1ac04a92",
   "metadata": {},
   "outputs": [],
   "source": [
    "y_train_onehot = pd.get_dummies(y_train).values\n",
    "y_test_onehot = pd.get_dummies(y_test).values"
   ]
  },
  {
   "cell_type": "code",
   "execution_count": 80,
   "id": "ab435398",
   "metadata": {},
   "outputs": [
    {
     "name": "stdout",
     "output_type": "stream",
     "text": [
      "(111060, 6)\n",
      "(12340, 6)\n",
      "(111060, 20)\n",
      "(12340, 20)\n"
     ]
    }
   ],
   "source": [
    "print(X_train.shape)\n",
    "print(X_test.shape)\n",
    "print(y_train_onehot.shape)\n",
    "print(y_test_onehot.shape)"
   ]
  },
  {
   "cell_type": "code",
   "execution_count": 81,
   "id": "926719df",
   "metadata": {},
   "outputs": [
    {
     "data": {
      "text/plain": [
       "((111060, 6, 1), (12340, 6, 1))"
      ]
     },
     "execution_count": 81,
     "metadata": {},
     "output_type": "execute_result"
    }
   ],
   "source": [
    "#데이터셋을 3차원으로 변환\n",
    "\n",
    "X_train = X_train.reshape(len(X_train), X_train.shape[1], 1)\n",
    "X_test = X_test.reshape(len(X_test), X_test.shape[1], 1)\n",
    "X_train.shape, X_test.shape"
   ]
  },
  {
   "cell_type": "code",
   "execution_count": 82,
   "id": "ab9672bb",
   "metadata": {},
   "outputs": [],
   "source": [
    "from tensorflow.keras.layers import Conv1D\n",
    "from tensorflow.keras.layers import Input\n",
    "from keras.layers import Dense, Flatten, Dropout"
   ]
  },
  {
   "cell_type": "code",
   "execution_count": 84,
   "id": "604d411f",
   "metadata": {
    "scrolled": true
   },
   "outputs": [
    {
     "name": "stdout",
     "output_type": "stream",
     "text": [
      "Model: \"model_7\"\n",
      "_________________________________________________________________\n",
      " Layer (type)                Output Shape              Param #   \n",
      "=================================================================\n",
      " input_8 (InputLayer)        [(None, 6, 1)]            0         \n",
      "                                                                 \n",
      " conv1d_7 (Conv1D)           (None, 6, 64)             448       \n",
      "                                                                 \n",
      " flatten_7 (Flatten)         (None, 384)               0         \n",
      "                                                                 \n",
      " dense_14 (Dense)            (None, 64)                24640     \n",
      "                                                                 \n",
      " dense_15 (Dense)            (None, 20)                1300      \n",
      "                                                                 \n",
      "=================================================================\n",
      "Total params: 26,388\n",
      "Trainable params: 26,388\n",
      "Non-trainable params: 0\n",
      "_________________________________________________________________\n"
     ]
    }
   ],
   "source": [
    "input_layer = Input(shape=(6, 1))\n",
    "\n",
    "conv1 = Conv1D(filters=64, kernel_size=6, padding = 'same', activation='relu')(input_layer)\n",
    "flat = Flatten()(conv1)\n",
    "dens = Dense(64, activation = \"relu\")(flat)\n",
    "outputs = Dense(20, activation = \"softmax\")(dens)\n",
    "\n",
    "model = keras.Model(input_layer, outputs)\n",
    "model.compile(loss='categorical_crossentropy', optimizer='adam', metrics=['accuracy'])\n",
    "model.summary()"
   ]
  },
  {
   "cell_type": "code",
   "execution_count": 85,
   "id": "5559e628",
   "metadata": {},
   "outputs": [
    {
     "name": "stdout",
     "output_type": "stream",
     "text": [
      "Epoch 1/10\n",
      "3471/3471 [==============================] - 38s 10ms/step - loss: 1.7614 - accuracy: 0.2846 - val_loss: 1.5848 - val_accuracy: 0.3246\n",
      "Epoch 2/10\n",
      "3471/3471 [==============================] - 38s 11ms/step - loss: 1.4992 - accuracy: 0.3562 - val_loss: 1.4184 - val_accuracy: 0.3730\n",
      "Epoch 3/10\n",
      "3471/3471 [==============================] - 36s 10ms/step - loss: 1.3858 - accuracy: 0.3825 - val_loss: 1.3536 - val_accuracy: 0.3965\n",
      "Epoch 4/10\n",
      "3471/3471 [==============================] - 38s 11ms/step - loss: 1.3468 - accuracy: 0.3889 - val_loss: 1.3240 - val_accuracy: 0.3887\n",
      "Epoch 5/10\n",
      "3471/3471 [==============================] - 36s 10ms/step - loss: 1.3237 - accuracy: 0.3955 - val_loss: 1.3030 - val_accuracy: 0.4022\n",
      "Epoch 6/10\n",
      "3471/3471 [==============================] - 36s 10ms/step - loss: 1.3088 - accuracy: 0.3990 - val_loss: 1.3048 - val_accuracy: 0.4053\n",
      "Epoch 7/10\n",
      "3471/3471 [==============================] - 37s 11ms/step - loss: 1.2964 - accuracy: 0.4072 - val_loss: 1.2815 - val_accuracy: 0.4131\n",
      "Epoch 8/10\n",
      "3471/3471 [==============================] - 35s 10ms/step - loss: 1.2861 - accuracy: 0.4109 - val_loss: 1.2837 - val_accuracy: 0.4216\n",
      "Epoch 9/10\n",
      "3471/3471 [==============================] - 36s 10ms/step - loss: 1.2777 - accuracy: 0.4157 - val_loss: 1.2647 - val_accuracy: 0.4213\n",
      "Epoch 10/10\n",
      "3471/3471 [==============================] - 37s 11ms/step - loss: 1.2688 - accuracy: 0.4201 - val_loss: 1.2615 - val_accuracy: 0.4228\n"
     ]
    }
   ],
   "source": [
    "train_epochs = 10\n",
    "history = model.fit(X_train, y_train_onehot, epochs=train_epochs, batch_size = 32, validation_data = (X_test, y_test_onehot))"
   ]
  },
  {
   "cell_type": "code",
   "execution_count": 86,
   "id": "77994aab",
   "metadata": {},
   "outputs": [
    {
     "data": {
      "image/png": "[encoded data removed]",
      "text/plain": [
       "<Figure size 640x480 with 1 Axes>"
      ]
     },
     "metadata": {},
     "output_type": "display_data"
    }
   ],
   "source": [
    "import matplotlib.pyplot as plt\n",
    "import seaborn as sns\n",
    "\n",
    "loss =history.history['loss']\n",
    "val_loss =history.history['val_loss']\n",
    "epochs = range(1, len(loss) + 1)\n",
    "plt.plot(epochs, loss, 'y', label='Training loss')\n",
    "plt.plot(epochs, val_loss, 'r', label='Validation loss')\n",
    "plt.title('Training and validation loss')\n",
    "plt.xlabel('Epochs')\n",
    "plt.ylabel('Loss')\n",
    "plt.legend()\n",
    "plt.show()"
   ]
  },
  {
   "cell_type": "code",
   "execution_count": 87,
   "id": "c32cdd68",
   "metadata": {},
   "outputs": [
    {
     "data": {
      "image/png": "[encoded data removed]",
      "text/plain": [
       "<Figure size 640x480 with 1 Axes>"
      ]
     },
     "metadata": {},
     "output_type": "display_data"
    }
   ],
   "source": [
    "acc =history.history['accuracy']\n",
    "val_acc =history.history['val_accuracy']\n",
    "plt.plot(epochs, acc, 'y', label='Training acc')\n",
    "plt.plot(epochs, val_acc, 'r', label='Validation acc')\n",
    "plt.title('Training and validation accuracy')\n",
    "plt.xlabel('Epochs')\n",
    "plt.ylabel('Accuracy')\n",
    "plt.legend()\n",
    "plt.show()"
   ]
  },
  {
   "cell_type": "code",
   "execution_count": 88,
   "id": "b3df13a3",
   "metadata": {},
   "outputs": [
    {
     "name": "stdout",
     "output_type": "stream",
     "text": [
      "386/386 [==============================] - 1s 3ms/step\n"
     ]
    }
   ],
   "source": [
    "from sklearn.metrics import classification_report,confusion_matrix\n",
    "\n",
    "\n",
    "y_pred = model.predict(X_test)\n",
    "y_test_class = np.argmax(y_test_onehot,axis=1)\n",
    "y_pred_class = np.argmax(y_pred,axis=1)"
   ]
  },
  {
   "cell_type": "code",
   "execution_count": 89,
   "id": "3cfc1a21",
   "metadata": {},
   "outputs": [
    {
     "name": "stdout",
     "output_type": "stream",
     "text": [
      "              precision    recall  f1-score   support\n",
      "\n",
      "           0       0.35      0.60      0.44      2822\n",
      "           1       0.35      0.48      0.40        63\n",
      "           2       0.19      0.20      0.19        55\n",
      "           3       0.75      0.20      0.32        59\n",
      "           4       0.14      0.28      0.19        54\n",
      "           5       0.25      0.49      0.33        49\n",
      "           6       0.92      0.16      0.27        69\n",
      "           7       0.52      0.55      0.54        65\n",
      "           8       0.50      0.68      0.58        25\n",
      "           9       0.00      0.00      0.00        16\n",
      "          10       0.29      0.23      0.26      2553\n",
      "          11       0.32      0.27      0.30      2535\n",
      "          12       0.28      0.20      0.23       706\n",
      "          13       0.14      0.00      0.01       572\n",
      "          14       0.25      0.12      0.16       574\n",
      "          15       0.00      0.00      0.00       119\n",
      "          16       0.36      0.30      0.33       140\n",
      "          17       0.26      0.43      0.33        69\n",
      "          18       1.00      1.00      1.00       982\n",
      "          19       1.00      1.00      1.00       813\n",
      "\n",
      "    accuracy                           0.42     12340\n",
      "   macro avg       0.39      0.36      0.34     12340\n",
      "weighted avg       0.41      0.42      0.40     12340\n",
      "\n",
      "[[1697    3    2    1   13    2    0    1    1    0  490  516   58    0\n",
      "    19    2   12    4    1    0]\n",
      " [   7   30    2    1    5    2    1    1    1    0    1    0    4    0\n",
      "     0    0    0    8    0    0]\n",
      " [   8   16   11    1    5    5    0    0    0    0    2    0    3    0\n",
      "     0    0    0    4    0    0]\n",
      " [   4    0    2   12   15    1    0   14    1    0    1    0    0    0\n",
      "     0    0    0    9    0    0]\n",
      " [  13   11    4    0   15    8    0    0    0    0    0    0    0    0\n",
      "     0    0    0    3    0    0]\n",
      " [   6    0    0    0    2   24    0    0    0    0   11    0    1    0\n",
      "     1    0    1    3    0    0]\n",
      " [   6   16    1    0    3   19   11    0    0    0    4    2    1    0\n",
      "     0    0    0    6    0    0]\n",
      " [   7    1    1    1    4    0    0   36    1    0    3    0    0    0\n",
      "     0    0    0   11    0    0]\n",
      " [   5    0    0    0    0    0    0    1   17    0    0    0    2    0\n",
      "     0    0    0    0    0    0]\n",
      " [   4    0    0    0    0    9    0    0    0    0    2    0    0    1\n",
      "     0    0    0    0    0    0]\n",
      " [1253    0    1    0   14    1    0    0    0    0  595  571   64    2\n",
      "    44    0    8    0    0    0]\n",
      " [1192    0   13    0    1    6    0    0    0    0  520  691   58    3\n",
      "    29    0   21    1    0    0]\n",
      " [ 209    1   10    0    2    2    0    0    0    0  158  135  141    2\n",
      "    43    0    2    1    0    0]\n",
      " [ 181    1    1    0    2    1    0    1    0    0  129  103   75    2\n",
      "    72    0    4    0    0    0]\n",
      " [ 177    0    1    0    0    0    0    3    0    0  124  109   86    3\n",
      "    68    0    3    0    0    0]\n",
      " [  42    0    1    0   10   11    0    5    0    0    5    4    4    0\n",
      "     0    0   22   15    0    0]\n",
      " [  28    6    2    0    5    2    0    0   13    0    8    5    7    1\n",
      "     0    2   42   19    0    0]\n",
      " [   7    1    7    0    9    2    0    7    0    0    3    0    2    0\n",
      "     0    0    1   30    0    0]\n",
      " [   0    0    0    0    0    0    0    0    0    0    0    0    0    0\n",
      "     0    0    0    0  982    0]\n",
      " [   0    0    0    0    0    0    0    0    0    0    0    0    0    0\n",
      "     0    0    0    0    0  813]]\n"
     ]
    },
    {
     "name": "stderr",
     "output_type": "stream",
     "text": [
      "C:\\Users\\gram\\anaconda3\\envs\\ml\\lib\\site-packages\\sklearn\\metrics\\_classification.py:1469: UndefinedMetricWarning: Precision and F-score are ill-defined and being set to 0.0 in labels with no predicted samples. Use `zero_division` parameter to control this behavior.\n",
      "  _warn_prf(average, modifier, msg_start, len(result))\n",
      "C:\\Users\\gram\\anaconda3\\envs\\ml\\lib\\site-packages\\sklearn\\metrics\\_classification.py:1469: UndefinedMetricWarning: Precision and F-score are ill-defined and being set to 0.0 in labels with no predicted samples. Use `zero_division` parameter to control this behavior.\n",
      "  _warn_prf(average, modifier, msg_start, len(result))\n",
      "C:\\Users\\gram\\anaconda3\\envs\\ml\\lib\\site-packages\\sklearn\\metrics\\_classification.py:1469: UndefinedMetricWarning: Precision and F-score are ill-defined and being set to 0.0 in labels with no predicted samples. Use `zero_division` parameter to control this behavior.\n",
      "  _warn_prf(average, modifier, msg_start, len(result))\n"
     ]
    }
   ],
   "source": [
    "#Accuracy of the predicted values\n",
    "from sklearn.metrics import classification_report,confusion_matrix\n",
    "print(classification_report(y_test_class,y_pred_class))\n",
    "print(confusion_matrix(y_test_class,y_pred_class))"
   ]
  },
  {
   "cell_type": "code",
   "execution_count": null,
   "id": "e28e9d44",
   "metadata": {},
   "outputs": [],
   "source": []
  }
 ],
 "metadata": {
  "kernelspec": {
   "display_name": "ml",
   "language": "python",
   "name": "ml"
  },
  "language_info": {
   "codemirror_mode": {
    "name": "ipython",
    "version": 3
   },
   "file_extension": ".py",
   "mimetype": "text/x-python",
   "name": "python",
   "nbconvert_exporter": "python",
   "pygments_lexer": "ipython3",
   "version": "3.10.13"
  }
 },
 "nbformat": 4,
 "nbformat_minor": 5
}
